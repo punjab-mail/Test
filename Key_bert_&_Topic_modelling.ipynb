{
  "nbformat": 4,
  "nbformat_minor": 0,
  "metadata": {
    "colab": {
      "provenance": [],
      "gpuType": "T4"
    },
    "kernelspec": {
      "name": "python3",
      "display_name": "Python 3"
    },
    "language_info": {
      "name": "python"
    },
    "accelerator": "GPU"
  },
  "cells": [
    {
      "cell_type": "code",
      "execution_count": 20,
      "metadata": {
        "id": "YzOU7_2AFr57"
      },
      "outputs": [],
      "source": [
        "import pandas as pd\n",
        "from sklearn.model_selection import train_test_split\n",
        "from sklearn.metrics import classification_report\n",
        "import torch\n",
        "from transformers import BertTokenizer, BertForSequenceClassification, Trainer, TrainingArguments\n",
        "from transformers import DataCollatorWithPadding\n",
        "from datasets import Dataset"
      ]
    },
    {
      "cell_type": "code",
      "source": [
        "# Read a file using pandas\n",
        "from google.colab import drive\n",
        "\n",
        "drive.mount('/content/drive')"
      ],
      "metadata": {
        "colab": {
          "base_uri": "https://localhost:8080/"
        },
        "id": "Va4tye42Juci",
        "outputId": "95a04091-e315-4964-f82e-8292c135b1ba"
      },
      "execution_count": 21,
      "outputs": [
        {
          "output_type": "stream",
          "name": "stdout",
          "text": [
            "Drive already mounted at /content/drive; to attempt to forcibly remount, call drive.mount(\"/content/drive\", force_remount=True).\n"
          ]
        }
      ]
    },
    {
      "cell_type": "code",
      "source": [
        "path = '/content/drive/My Drive/Nat_Cat_Exercise/Events.csv'\n",
        "df = pd.read_csv(path)"
      ],
      "metadata": {
        "id": "703kd_4IJ-uy"
      },
      "execution_count": 22,
      "outputs": []
    },
    {
      "cell_type": "code",
      "source": [
        "df = df.dropna(subset=['title'])"
      ],
      "metadata": {
        "id": "MXww0n5wKFTa"
      },
      "execution_count": 23,
      "outputs": []
    },
    {
      "cell_type": "code",
      "source": [
        "# Drop exact duplicate clean titles\n",
        "df = df.drop_duplicates(subset='title', keep='first').reset_index(drop=True)\n",
        "print(\"New shape after deduplication:\", df.shape)"
      ],
      "metadata": {
        "colab": {
          "base_uri": "https://localhost:8080/"
        },
        "id": "F0ShNmjnKQqq",
        "outputId": "dca2f317-5e51-444d-b2fa-2844d2d7e33a"
      },
      "execution_count": 24,
      "outputs": [
        {
          "output_type": "stream",
          "name": "stdout",
          "text": [
            "New shape after deduplication: (65158, 8)\n"
          ]
        }
      ]
    },
    {
      "cell_type": "code",
      "source": [
        "#!pip install spacy\n",
        "#!python -m spacy download en_core_web_sm"
      ],
      "metadata": {
        "id": "8Lk7kaSyKULh"
      },
      "execution_count": 51,
      "outputs": []
    },
    {
      "cell_type": "code",
      "source": [
        "!pip install geonamescache"
      ],
      "metadata": {
        "colab": {
          "base_uri": "https://localhost:8080/"
        },
        "id": "65s313w7LJ2L",
        "outputId": "fe9af307-4f36-4f26-e762-a30c4d597c90"
      },
      "execution_count": 26,
      "outputs": [
        {
          "output_type": "stream",
          "name": "stdout",
          "text": [
            "Requirement already satisfied: geonamescache in /usr/local/lib/python3.11/dist-packages (2.0.0)\n"
          ]
        }
      ]
    },
    {
      "cell_type": "code",
      "source": [
        "import spacy\n",
        "nlp = spacy.load(\"en_core_web_sm\")"
      ],
      "metadata": {
        "id": "VWvzqMWXLTuL"
      },
      "execution_count": 27,
      "outputs": []
    },
    {
      "cell_type": "code",
      "source": [
        "# 4. Clean Titles\n",
        "import re\n",
        "def clean_title(text):\n",
        "    if pd.isna(text):\n",
        "        return \"\"\n",
        "    text = re.sub(r'[^A-Za-z0-9\\s]', '', text)\n",
        "    text = re.sub(r'\\s+', ' ', text)\n",
        "    return text.strip()\n",
        "\n",
        "df['clean_title'] = df['title'].astype(str).apply(clean_title)"
      ],
      "metadata": {
        "id": "OQH8s2djLYvp"
      },
      "execution_count": 28,
      "outputs": []
    },
    {
      "cell_type": "code",
      "source": [
        "import spacy\n",
        "import geonamescache\n",
        "\n",
        "# Load spaCy model\n",
        "#nlp = spacy.load(\"en_core_web_sm\")\n",
        "\n",
        "# Load GeoNames country and city names\n",
        "gc = geonamescache.GeonamesCache()\n",
        "countries = set([c['name'] for c in gc.get_countries().values()])\n",
        "cities = set([c['name'] for c in gc.get_cities().values()])\n",
        "gazetteer = countries.union(cities)\n",
        "\n",
        "# Function to check if a title has a real location\n",
        "def has_location(text):\n",
        "    doc = nlp(text)\n",
        "\n",
        "    # Rule 1: spaCy NER match with gazetteer\n",
        "    for ent in doc.ents:\n",
        "        if ent.label_ in [\"GPE\", \"LOC\", \"FAC\"]:\n",
        "            if ent.text.strip().title() in gazetteer:\n",
        "                return True\n",
        "\n",
        "    # Rule 2: Token-level backup match\n",
        "    tokens = [t.text.strip().title() for t in doc if t.is_alpha]\n",
        "    if any(tok in gazetteer for tok in tokens):\n",
        "        return True\n",
        "\n",
        "    return False\n"
      ],
      "metadata": {
        "id": "I792HBbdLb2g"
      },
      "execution_count": 29,
      "outputs": []
    },
    {
      "cell_type": "code",
      "source": [
        "# 6. Detect Nat-Cat Keyword\n",
        "CATEGORY_KEYWORDS = {\n",
        "    'Earthquakes': [\n",
        "        'earthquake', 'tremor', 'seismic', 'quake', 'aftershock', 'foreshock',\n",
        "        'seism', 'epicenter', 'hypocenter', 'magnitude', 'richter scale',\n",
        "        'seismic waves', 'ground shaking', 'fault line', 'tectonic', 'liquefaction',\n",
        "        'seismograph', 'seismology', 'earth movement', 'earth vibration'\n",
        "    ],\n",
        "\n",
        "    'Hurricanes': [\n",
        "        'hurricane', 'typhoon', 'cyclone', 'tropical storm', 'storm surge',\n",
        "        'eye wall', 'rain bands', 'wind speed', 'category storm', 'tropical depression',\n",
        "        'gale', 'tempest', 'monsoon', 'low pressure', 'storm system', 'hurricane warning',\n",
        "        'hurricane watch', 'storm track', 'landfall', 'saffir-simpson'\n",
        "    ],\n",
        "\n",
        "    'Tornadoes': [\n",
        "        'tornado', 'twister', 'funnel cloud', 'whirlwind', 'supercell',\n",
        "        'mesocyclone', 'vortex', 'windstorm', 'tornado warning', 'tornado watch',\n",
        "        'tornado siren', 'debris cloud', 'tornado alley', 'rotation', 'wall cloud',\n",
        "        'hook echo', 'doppler radar', 'fujita scale', 'enhanced fujita', 'tornado outbreak'\n",
        "    ],\n",
        "\n",
        "    'Floods': [\n",
        "        'flood', 'flooding', 'inundation', 'deluge', 'flash flood',\n",
        "        'torrent', 'high water', 'overflow', 'submersion', 'waterlogging',\n",
        "        'floodwaters', 'flood damage', 'flood alert', 'flood warning', 'flood watch',\n",
        "        'levee breach', 'dam break', 'runoff', 'water rise', 'coastal flooding'\n",
        "    ],\n",
        "\n",
        "    'Wildfires': [\n",
        "        'wildfire', 'bushfire', 'forest fire', 'brush fire', 'grass fire',\n",
        "        'wildland fire', 'firestorm', 'conflagration', 'ember', 'fire spread',\n",
        "        'fire line', 'fire suppression', 'fire evacuation', 'smoke plume', 'fire season',\n",
        "        'fire danger', 'red flag warning', 'backfire', 'firebreak', 'containment line'\n",
        "    ],\n",
        "\n",
        "    'Tsunamis': [\n",
        "        'tsunami', 'tidal wave', 'seismic wave', 'harbor wave', 'ocean surge',\n",
        "        'coastal flooding', 'wave height', 'run-up', 'tsunami warning', 'tsunami alert',\n",
        "        'tidal bore', 'tsunami advisory', 'seiche', 'displacement wave', 'tsunami siren',\n",
        "        'tsunami evacuation', 'tsunami zone', 'tsunami buoys', 'megatsunami', 'tsunami ready'\n",
        "    ],\n",
        "\n",
        "    'Volcanic eruptions': [\n",
        "        'volcano', 'eruption', 'lava', 'magma', 'ash cloud',\n",
        "        'pyroclastic', 'volcanic ash', 'crater', 'caldera', 'fumarole',\n",
        "        'geyser', 'volcanic gas', 'tephra', 'lahar', 'volcanic bomb',\n",
        "        'pumice', 'volcanic winter', 'vog', 'volcano alert', 'volcanic explosivity index'\n",
        "    ]\n",
        "}\n",
        "def is_natcat_event(title):\n",
        "    title = title.lower()\n",
        "    has_event = any(kw in title for kws in CATEGORY_KEYWORDS.values() for kw in kws)\n",
        "    return has_event and has_location(title)\n",
        "\n",
        "df['is_natcat'] = df['clean_title'].apply(is_natcat_event)"
      ],
      "metadata": {
        "id": "ZZ8SkuJtLfH9"
      },
      "execution_count": 55,
      "outputs": []
    },
    {
      "cell_type": "code",
      "source": [
        "# 7. Filter\n",
        "df_natcat = df[df['is_natcat'] == True].copy()\n",
        "print(\"Filtered shape:\", df_natcat.shape)"
      ],
      "metadata": {
        "colab": {
          "base_uri": "https://localhost:8080/"
        },
        "id": "hMEuPO8bLmP0",
        "outputId": "2abb7f75-4c2a-4a1c-bfc2-7c19603ee342"
      },
      "execution_count": 56,
      "outputs": [
        {
          "output_type": "stream",
          "name": "stdout",
          "text": [
            "Filtered shape: (21570, 10)\n"
          ]
        }
      ]
    },
    {
      "cell_type": "code",
      "source": [
        "#!pip install keybert"
      ],
      "metadata": {
        "id": "0rtbB_APLsQp"
      },
      "execution_count": 50,
      "outputs": []
    },
    {
      "cell_type": "code",
      "source": [
        "from keybert import KeyBERT\n",
        "from collections import defaultdict"
      ],
      "metadata": {
        "id": "glmhuj7wLsTU"
      },
      "execution_count": 33,
      "outputs": []
    },
    {
      "cell_type": "code",
      "source": [
        "CATEGORY_KEYWORDS = {\n",
        "    'Earthquakes': ['earthquake', 'tremor', 'seismic', 'quake','tsunami', 'tidal wave', 'seismic wave'],\n",
        "    'Floods': ['flood', 'flooding', 'inundation'],\n",
        "    'Volcanic eruptions': ['volcano', 'eruption', 'lava'],\n",
        "    'Tornadoes': ['tornado', 'twister', 'cyclone','hurricane', 'typhoon', 'cyclone'],\n",
        "    'Wildfires': ['wildfire', 'bushfire', 'forest fire'],\n",
        "\n",
        "}"
      ],
      "metadata": {
        "id": "BeAjJVvPLsV-"
      },
      "execution_count": 34,
      "outputs": []
    },
    {
      "cell_type": "code",
      "source": [
        "kw_model = KeyBERT()"
      ],
      "metadata": {
        "id": "oJCPTcEjLsYt"
      },
      "execution_count": 35,
      "outputs": []
    },
    {
      "cell_type": "code",
      "source": [
        "def classify_disaster(title, threshold=0.3):\n",
        "    # Extract keywords\n",
        "    keywords = kw_model.extract_keywords(\n",
        "        title,\n",
        "        keyphrase_ngram_range=(1, 2),\n",
        "        stop_words='english',\n",
        "        top_n=5\n",
        "    )\n",
        "\n",
        "    # Filter keywords by score\n",
        "    filtered_keywords = [kw for kw, score in keywords if score >= threshold]\n",
        "\n",
        "    # Calculate category scores\n",
        "    category_scores = defaultdict(int)\n",
        "    for category, terms in CATEGORY_KEYWORDS.items():\n",
        "        for term in terms:\n",
        "            if any(term in kw.lower() for kw in filtered_keywords):\n",
        "                category_scores[category] += 1\n",
        "\n",
        "    # Determine predicted category\n",
        "    predicted_category = max(category_scores.items(), key=lambda x: x[1])[0] if category_scores else \"Unknown\"\n",
        "\n",
        "    return predicted_category, filtered_keywords"
      ],
      "metadata": {
        "id": "ngVQY-pXLsbY"
      },
      "execution_count": 42,
      "outputs": []
    },
    {
      "cell_type": "code",
      "source": [
        "# Apply classification to each title\n",
        "df_natcat['predicted_category'] = df_natcat['title'].apply(classify_disaster)"
      ],
      "metadata": {
        "id": "ic3iAS41LsfD"
      },
      "execution_count": 37,
      "outputs": []
    },
    {
      "cell_type": "code",
      "source": [
        "df_natcat.reset_index(drop=True, inplace=True)"
      ],
      "metadata": {
        "id": "fKY_KNiYOdFx"
      },
      "execution_count": 38,
      "outputs": []
    },
    {
      "cell_type": "code",
      "source": [
        "df_natcat.reset_index(drop=True, inplace=True)"
      ],
      "metadata": {
        "id": "9HRhzGfcOgU1"
      },
      "execution_count": 39,
      "outputs": []
    },
    {
      "cell_type": "code",
      "source": [
        "df_natcat['key_Bert'] = df_natcat['predicted_category'].apply(lambda x: x[0])\n"
      ],
      "metadata": {
        "id": "SnUpK5ydOn8a"
      },
      "execution_count": 40,
      "outputs": []
    },
    {
      "cell_type": "code",
      "source": [
        "df_natcat.key_Bert.value_counts()"
      ],
      "metadata": {
        "colab": {
          "base_uri": "https://localhost:8080/",
          "height": 303
        },
        "id": "4OtgRzheOqqg",
        "outputId": "d2f7f961-5074-4e48-9d42-38b64985d667"
      },
      "execution_count": 41,
      "outputs": [
        {
          "output_type": "execute_result",
          "data": {
            "text/plain": [
              "key_Bert\n",
              "Earthquakes           6271\n",
              "Floods                4708\n",
              "Tornadoes             4417\n",
              "Wildfires             3351\n",
              "Volcanic eruptions    1595\n",
              "Unknown               1228\n",
              "Name: count, dtype: int64"
            ],
            "text/html": [
              "<div>\n",
              "<style scoped>\n",
              "    .dataframe tbody tr th:only-of-type {\n",
              "        vertical-align: middle;\n",
              "    }\n",
              "\n",
              "    .dataframe tbody tr th {\n",
              "        vertical-align: top;\n",
              "    }\n",
              "\n",
              "    .dataframe thead th {\n",
              "        text-align: right;\n",
              "    }\n",
              "</style>\n",
              "<table border=\"1\" class=\"dataframe\">\n",
              "  <thead>\n",
              "    <tr style=\"text-align: right;\">\n",
              "      <th></th>\n",
              "      <th>count</th>\n",
              "    </tr>\n",
              "    <tr>\n",
              "      <th>key_Bert</th>\n",
              "      <th></th>\n",
              "    </tr>\n",
              "  </thead>\n",
              "  <tbody>\n",
              "    <tr>\n",
              "      <th>Earthquakes</th>\n",
              "      <td>6271</td>\n",
              "    </tr>\n",
              "    <tr>\n",
              "      <th>Floods</th>\n",
              "      <td>4708</td>\n",
              "    </tr>\n",
              "    <tr>\n",
              "      <th>Tornadoes</th>\n",
              "      <td>4417</td>\n",
              "    </tr>\n",
              "    <tr>\n",
              "      <th>Wildfires</th>\n",
              "      <td>3351</td>\n",
              "    </tr>\n",
              "    <tr>\n",
              "      <th>Volcanic eruptions</th>\n",
              "      <td>1595</td>\n",
              "    </tr>\n",
              "    <tr>\n",
              "      <th>Unknown</th>\n",
              "      <td>1228</td>\n",
              "    </tr>\n",
              "  </tbody>\n",
              "</table>\n",
              "</div><br><label><b>dtype:</b> int64</label>"
            ]
          },
          "metadata": {},
          "execution_count": 41
        }
      ]
    },
    {
      "cell_type": "code",
      "source": [
        "def test_classify_disaster():\n",
        "    \"\"\"Simple test cases for classify_disaster function\"\"\"\n",
        "\n",
        "    # Example 1: Clear natural disaster\n",
        "    title = \"Major earthquake hits California\"\n",
        "    category, keywords = classify_disaster(title)\n",
        "    print(f\"Test 1 - '{title}':\")\n",
        "    print(f\"  Category: {category}\")\n",
        "    print(f\"  Keywords: {keywords}\")\n",
        "    print()\n",
        "\n",
        "    # Example 2: Industrial accident\n",
        "    title = \"Chemical plant explosion in Texas\"\n",
        "    category, keywords = classify_disaster(title)\n",
        "    print(f\"Test 2 - '{title}':\")\n",
        "    print(f\"  Category: {category}\")\n",
        "    print(f\"  Keywords: {keywords}\")\n",
        "    print()\n",
        "\n",
        "    # Example 3: Below threshold (should return Unknown)\n",
        "    title = \"Minor incident at local factory\"\n",
        "    category, keywords = classify_disaster(title, threshold=0.5)\n",
        "    print(f\"Test 3 - '{title}':\")\n",
        "    print(f\"  Category: {category}\")\n",
        "    print(f\"  Keywords: {keywords}\")\n",
        "    print()\n",
        "\n",
        "    # Example 4: No matching category\n",
        "    title = \"Celebrity wedding announcement\"\n",
        "    category, keywords = classify_disaster(title)\n",
        "    print(f\"Test 4 - '{title}':\")\n",
        "    print(f\"  Category: {category}\")\n",
        "    print(f\"  Keywords: {keywords}\")\n",
        "\n",
        "# Run the tests\n",
        "if __name__ == \"__main__\":\n",
        "    test_classify_disaster()"
      ],
      "metadata": {
        "colab": {
          "base_uri": "https://localhost:8080/"
        },
        "id": "kDxWJFeuSPBS",
        "outputId": "0b47e587-b929-433a-b15a-d542bb46c340"
      },
      "execution_count": 43,
      "outputs": [
        {
          "output_type": "stream",
          "name": "stdout",
          "text": [
            "Test 1 - 'Major earthquake hits California':\n",
            "  Category: Earthquakes\n",
            "  Keywords: ['earthquake hits', 'major earthquake', 'hits california', 'earthquake', 'california']\n",
            "\n",
            "Test 2 - 'Chemical plant explosion in Texas':\n",
            "  Category: Unknown\n",
            "  Keywords: ['explosion texas', 'plant explosion', 'explosion', 'chemical plant', 'chemical']\n",
            "\n",
            "Test 3 - 'Minor incident at local factory':\n",
            "  Category: Unknown\n",
            "  Keywords: ['incident local', 'minor incident', 'incident', 'local factory', 'factory']\n",
            "\n",
            "Test 4 - 'Celebrity wedding announcement':\n",
            "  Category: Unknown\n",
            "  Keywords: ['celebrity wedding', 'wedding announcement', 'wedding', 'celebrity', 'announcement']\n"
          ]
        }
      ]
    },
    {
      "cell_type": "code",
      "source": [],
      "metadata": {
        "id": "7roI52vXSP_k"
      },
      "execution_count": null,
      "outputs": []
    },
    {
      "cell_type": "markdown",
      "source": [
        "**Bert Topic**"
      ],
      "metadata": {
        "id": "CwU6YTk5S8Gc"
      }
    },
    {
      "cell_type": "code",
      "source": [
        "#!pip install bertopic\n",
        "#from bertopic import BERTopic"
      ],
      "metadata": {
        "id": "qrAIyjDUS-4p"
      },
      "execution_count": 49,
      "outputs": []
    },
    {
      "cell_type": "code",
      "source": [
        "from bertopic import BERTopic\n",
        "import pandas as pd\n",
        "\n",
        "# Fit BERTopic\n",
        "topic_model = BERTopic(language=\"english\", nr_topics=5)\n",
        "topics, probs = topic_model.fit_transform(df_natcat['clean_title'])\n",
        "\n",
        "# STEP 1: Display topic keywords for manual inspection\n",
        "print(\"Topic Keywords:\")\n",
        "for topic_num in set(topics):\n",
        "    print(f\"Topic {topic_num}: {topic_model.get_topic(topic_num)}\")\n",
        "\n",
        "# STEP 2: Manually map topics to your 5 disaster categories\n",
        "# After inspecting above output, update this dictionary accordingly\n",
        "manual_topic_map = {\n",
        "    0: \"Earthquake\",\n",
        "    1: \"Tornado\",\n",
        "    2: \"Volcano\",\n",
        "    3: \"Floods\",\n",
        "    4: \"Wildfire\"\n",
        "}\n",
        "\n",
        "# STEP 3: Create DataFrame with results\n",
        "df_result = pd.DataFrame({\n",
        "    \"title\": df_natcat['clean_title'],\n",
        "    \"topic_num\": topics,\n",
        "    \"topic_label\": [manual_topic_map.get(t, \"Unknown\") for t in topics]\n",
        "})\n",
        "\n",
        "print(\"\\nFinal Categorized Titles:\")\n",
        "print(df)\n"
      ],
      "metadata": {
        "colab": {
          "base_uri": "https://localhost:8080/"
        },
        "id": "WBaBwiGuTBrr",
        "outputId": "0be5c775-065d-4018-9e5a-a7b2452dd2e4"
      },
      "execution_count": 45,
      "outputs": [
        {
          "output_type": "stream",
          "name": "stdout",
          "text": [
            "Topic Keywords:\n",
            "Topic 0: [('earthquake', np.float64(0.14504829607353298)), ('magnitude', np.float64(0.07563144635479475)), ('in', np.float64(0.07346802797658374)), ('mag', np.float64(0.06889097843860043)), ('near', np.float64(0.06467296749226831)), ('light', np.float64(0.06248026779868852)), ('of', np.float64(0.06102940647299294)), ('quake', np.float64(0.058922233013910794)), ('volcano', np.float64(0.05587115030837778)), ('japan', np.float64(0.048303188464383785))]\n",
            "Topic 1: [('tornado', np.float64(0.0695846008459822)), ('flood', np.float64(0.06852435241238697)), ('in', np.float64(0.06135681320474038)), ('of', np.float64(0.054059426557127775)), ('hurricane', np.float64(0.05138149736583858)), ('to', np.float64(0.04922928346838302)), ('for', np.float64(0.04762231489856661)), ('and', np.float64(0.04023598401103956)), ('as', np.float64(0.03873916091521555)), ('the', np.float64(0.035573495359894576))]\n",
            "Topic 2: [('wildfire', np.float64(0.17896668876770125)), ('wildfires', np.float64(0.07923794629779672)), ('of', np.float64(0.07022125578760861)), ('to', np.float64(0.06027795368185633)), ('in', np.float64(0.05833879688847609)), ('fire', np.float64(0.044015818991827035)), ('canada', np.float64(0.03972845035209489)), ('jasper', np.float64(0.03820966486788546)), ('as', np.float64(0.03596758486486659)), ('the', np.float64(0.035684980854875585))]\n",
            "Topic 3: [('november', np.float64(0.21223381739488356)), ('holiday', np.float64(0.20194841149801093)), ('25c', np.float64(0.18477093969696567)), ('september', np.float64(0.17755485763656698)), ('spot', np.float64(0.14947367136417802)), ('2024', np.float64(0.13816650321727184)), ('beautiful', np.float64(0.13528082952156492)), ('arts', np.float64(0.13528082952156492)), ('chronicle', np.float64(0.12659557781561476)), ('the', np.float64(0.12597236400127287))]\n",
            "Topic -1: [('of', np.float64(0.06479822280687597)), ('in', np.float64(0.061485318234000524)), ('to', np.float64(0.04943005638303464)), ('flood', np.float64(0.04401874739231794)), ('tornado', np.float64(0.040066777956610525)), ('wildfire', np.float64(0.03756161743979714)), ('the', np.float64(0.03588298787662416)), ('earthquake', np.float64(0.032680551803353185)), ('for', np.float64(0.032575583622069276)), ('and', np.float64(0.03238067735368482))]\n",
            "\n",
            "Final Categorized Titles:\n",
            "                                                     url  \\\n",
            "0      https://www.wpri.com/weather/severe-weather/20...   \n",
            "1      https://volcanoes.usgs.gov/hans2/view/notice/D...   \n",
            "2      https://www.ktbs.com/online_features/home_impr...   \n",
            "3      https://www.ctvnews.ca/climate-and-environment...   \n",
            "4      https://news.yahoo.com/tornados-scorchers-ice-...   \n",
            "...                                                  ...   \n",
            "65153  https://en.vietnamplus.vn/indonesia-mount-ibu-...   \n",
            "65154  https://www.yahoo.com/news/montgomery-county-c...   \n",
            "65155  https://www.dailymail.co.uk/tvshowbiz/article-...   \n",
            "65156  https://www.independent.co.uk/weather/new-year...   \n",
            "65157  https://www.wpsdlocal6.com/news/kentucky-human...   \n",
            "\n",
            "                                              url_mobile  \\\n",
            "0      https://www.wpri.com/weather/severe-weather/20...   \n",
            "1                                                    NaN   \n",
            "2                                                    NaN   \n",
            "3                                                    NaN   \n",
            "4                                                    NaN   \n",
            "...                                                  ...   \n",
            "65153                                                NaN   \n",
            "65154                                                NaN   \n",
            "65155  https://www.dailymail.co.uk/tvshowbiz/article-...   \n",
            "65156                                                NaN   \n",
            "65157                                                NaN   \n",
            "\n",
            "                                                   title          seendate  \\\n",
            "0      2023 was a year of extreme weather in Southern...  20240101T223000Z   \n",
            "1      HAWAIIAN VOLCANO OBSERVATORY DAILY UPDATE Mond...  20240101T220000Z   \n",
            "2              How to Protect Your Family from Tornadoes  20240101T124500Z   \n",
            "3      Iceland volcanoes bring tourists to island cou...  20240101T223000Z   \n",
            "4      Tornados , scorchers and ice storm : Top 10 we...  20240101T131500Z   \n",
            "...                                                  ...               ...   \n",
            "65153  Indonesia : Mount Ibu erupts on 2024 last day ...  20241231T061500Z   \n",
            "65154  Montgomery County crime : Authorities detain d...  20241231T073000Z   \n",
            "65155  Love Island India Reynolds reveals her family ...  20241231T091500Z   \n",
            "65156  New Year celebrated across world but united ki...  20241231T174500Z   \n",
            "65157  Kentucky Humane Society receives $30 , 000 gra...  20241231T011500Z   \n",
            "\n",
            "                                             socialimage              domain  \\\n",
            "0      https://www.wpri.com/wp-content/uploads/sites/...            wpri.com   \n",
            "1                                                    NaN  volcanoes.usgs.gov   \n",
            "2      https://bloximages.newyork1.vip.townnews.com/k...            ktbs.com   \n",
            "3      https://www.ctvnews.ca/content/dam/ctvnews/en/...          ctvnews.ca   \n",
            "4      https://s.yimg.com/ny/api/res/1.2/PXdWVXp40q9s...      news.yahoo.com   \n",
            "...                                                  ...                 ...   \n",
            "65153  https://mediaen.vietnamplus.vn/images/f579a678...   en.vietnamplus.vn   \n",
            "65154  https://s.yimg.com/ny/api/res/1.2/peVKBIgFvkWy...           yahoo.com   \n",
            "65155  https://i.dailymail.co.uk/1s/2024/12/31/08/936...     dailymail.co.uk   \n",
            "65156  https://static.independent.co.uk/2024/12/31/12...   independent.co.uk   \n",
            "65157  https://bloximages.newyork1.vip.townnews.com/w...      wpsdlocal6.com   \n",
            "\n",
            "      language   sourcecountry  \\\n",
            "0      English   United States   \n",
            "1      English   United States   \n",
            "2      English   United States   \n",
            "3      English          Canada   \n",
            "4      English   United States   \n",
            "...        ...             ...   \n",
            "65153  English         Vietnam   \n",
            "65154  English   United States   \n",
            "65155  English  United Kingdom   \n",
            "65156  English  United Kingdom   \n",
            "65157  English   United States   \n",
            "\n",
            "                                             clean_title  is_natcat  \n",
            "0      2023 was a year of extreme weather in Southern...      False  \n",
            "1      HAWAIIAN VOLCANO OBSERVATORY DAILY UPDATE Mond...      False  \n",
            "2              How to Protect Your Family from Tornadoes      False  \n",
            "3      Iceland volcanoes bring tourists to island cou...       True  \n",
            "4      Tornados scorchers and ice storm Top 10 weathe...       True  \n",
            "...                                                  ...        ...  \n",
            "65153  Indonesia Mount Ibu erupts on 2024 last day Vi...      False  \n",
            "65154  Montgomery County crime Authorities detain dri...       True  \n",
            "65155  Love Island India Reynolds reveals her family ...       True  \n",
            "65156  New Year celebrated across world but united ki...      False  \n",
            "65157  Kentucky Humane Society receives 30 000 grant ...      False  \n",
            "\n",
            "[65158 rows x 10 columns]\n"
          ]
        }
      ]
    },
    {
      "cell_type": "code",
      "source": [
        "df_result.shape"
      ],
      "metadata": {
        "colab": {
          "base_uri": "https://localhost:8080/"
        },
        "id": "pLdBhnEMTOOQ",
        "outputId": "6f7d7611-52cf-4286-bb24-dc61e8e2147f"
      },
      "execution_count": 47,
      "outputs": [
        {
          "output_type": "execute_result",
          "data": {
            "text/plain": [
              "(21570, 3)"
            ]
          },
          "metadata": {},
          "execution_count": 47
        }
      ]
    },
    {
      "cell_type": "code",
      "source": [
        "df_result.topic_label.value_counts()"
      ],
      "metadata": {
        "colab": {
          "base_uri": "https://localhost:8080/",
          "height": 272
        },
        "id": "FdV7XjFnUkW0",
        "outputId": "a474502d-4e54-4ca6-8c41-c5f26dd87576"
      },
      "execution_count": 48,
      "outputs": [
        {
          "output_type": "execute_result",
          "data": {
            "text/plain": [
              "topic_label\n",
              "Unknown       6948\n",
              "Earthquake    6250\n",
              "Tornado       6034\n",
              "Volcano       2322\n",
              "Floods          16\n",
              "Name: count, dtype: int64"
            ],
            "text/html": [
              "<div>\n",
              "<style scoped>\n",
              "    .dataframe tbody tr th:only-of-type {\n",
              "        vertical-align: middle;\n",
              "    }\n",
              "\n",
              "    .dataframe tbody tr th {\n",
              "        vertical-align: top;\n",
              "    }\n",
              "\n",
              "    .dataframe thead th {\n",
              "        text-align: right;\n",
              "    }\n",
              "</style>\n",
              "<table border=\"1\" class=\"dataframe\">\n",
              "  <thead>\n",
              "    <tr style=\"text-align: right;\">\n",
              "      <th></th>\n",
              "      <th>count</th>\n",
              "    </tr>\n",
              "    <tr>\n",
              "      <th>topic_label</th>\n",
              "      <th></th>\n",
              "    </tr>\n",
              "  </thead>\n",
              "  <tbody>\n",
              "    <tr>\n",
              "      <th>Unknown</th>\n",
              "      <td>6948</td>\n",
              "    </tr>\n",
              "    <tr>\n",
              "      <th>Earthquake</th>\n",
              "      <td>6250</td>\n",
              "    </tr>\n",
              "    <tr>\n",
              "      <th>Tornado</th>\n",
              "      <td>6034</td>\n",
              "    </tr>\n",
              "    <tr>\n",
              "      <th>Volcano</th>\n",
              "      <td>2322</td>\n",
              "    </tr>\n",
              "    <tr>\n",
              "      <th>Floods</th>\n",
              "      <td>16</td>\n",
              "    </tr>\n",
              "  </tbody>\n",
              "</table>\n",
              "</div><br><label><b>dtype:</b> int64</label>"
            ]
          },
          "metadata": {},
          "execution_count": 48
        }
      ]
    },
    {
      "cell_type": "code",
      "source": [
        "# ✅ TEST CASES\n",
        "# Test 1: Ensure number of output rows matches number of input titles\n",
        "assert len(df_result) == len(df_natcat), \"Mismatch in number of rows between input and result.\"\n",
        "\n",
        "# Test 2: Ensure all titles have a topic number assigned\n",
        "assert df_result[\"topic_num\"].isnull().sum() == 0, \"Some titles have no topic assigned.\"\n",
        "\n",
        "# Test 3: Ensure all topic labels are mapped correctly (or marked as 'Unknown')\n",
        "valid_labels = {\"Earthquake\", \"Tornado\", \"Volcano\", \"Floods\", \"Wildfire\", \"Unknown\"}\n",
        "assert all(label in valid_labels for label in df_result[\"topic_label\"]), \"Unexpected topic label found.\"\n"
      ],
      "metadata": {
        "id": "JXqRy-0WW5zP"
      },
      "execution_count": 58,
      "outputs": []
    },
    {
      "cell_type": "code",
      "source": [
        "df_result# ✅ TEST CASES\n",
        "assert len(df_result) == len(df_natcat), \"Mismatch in number of rows between input and result.\"\n",
        "assert df_result[\"topic_num\"].isnull().sum() == 0, \"Some titles have no topic assigned.\"\n",
        "\n",
        "valid_labels = {\"Earthquake\", \"Tornado\", \"Volcano\", \"Floods\", \"Wildfire\", \"Unknown\"}\n",
        "assert all(label in valid_labels for label in df_result[\"topic_label\"]), \"Unexpected topic label found.\"\n",
        "\n",
        "print(\"✅ All tests passed successfully.\")\n"
      ],
      "metadata": {
        "colab": {
          "base_uri": "https://localhost:8080/"
        },
        "id": "MdxkiDxWXRkw",
        "outputId": "f63b2049-d4ad-4202-ac92-509f4265cad4"
      },
      "execution_count": 61,
      "outputs": [
        {
          "output_type": "stream",
          "name": "stdout",
          "text": [
            "✅ All tests passed successfully.\n"
          ]
        }
      ]
    },
    {
      "cell_type": "code",
      "source": [
        "df_result.head()"
      ],
      "metadata": {
        "colab": {
          "base_uri": "https://localhost:8080/",
          "height": 206
        },
        "id": "6Yr4-uCFXY_P",
        "outputId": "5fd5f984-7c7b-463f-ed45-ef79a5df28e6"
      },
      "execution_count": 62,
      "outputs": [
        {
          "output_type": "execute_result",
          "data": {
            "text/plain": [
              "                                               title  topic_num topic_label\n",
              "0  Iceland volcanoes bring tourists to island cou...          0  Earthquake\n",
              "1  Tornados scorchers and ice storm Top 10 weathe...          1     Tornado\n",
              "2  Yellowstone Supervolcano Magma Chamber Is Very...         -1     Unknown\n",
              "3  Japan earthquakes Coastal residents told to ev...          0  Earthquake\n",
              "4            Topic Tsunami The Sydney Morning Herald          0  Earthquake"
            ],
            "text/html": [
              "\n",
              "  <div id=\"df-5912ffb3-629e-49c1-b463-cdd74e9af772\" class=\"colab-df-container\">\n",
              "    <div>\n",
              "<style scoped>\n",
              "    .dataframe tbody tr th:only-of-type {\n",
              "        vertical-align: middle;\n",
              "    }\n",
              "\n",
              "    .dataframe tbody tr th {\n",
              "        vertical-align: top;\n",
              "    }\n",
              "\n",
              "    .dataframe thead th {\n",
              "        text-align: right;\n",
              "    }\n",
              "</style>\n",
              "<table border=\"1\" class=\"dataframe\">\n",
              "  <thead>\n",
              "    <tr style=\"text-align: right;\">\n",
              "      <th></th>\n",
              "      <th>title</th>\n",
              "      <th>topic_num</th>\n",
              "      <th>topic_label</th>\n",
              "    </tr>\n",
              "  </thead>\n",
              "  <tbody>\n",
              "    <tr>\n",
              "      <th>0</th>\n",
              "      <td>Iceland volcanoes bring tourists to island cou...</td>\n",
              "      <td>0</td>\n",
              "      <td>Earthquake</td>\n",
              "    </tr>\n",
              "    <tr>\n",
              "      <th>1</th>\n",
              "      <td>Tornados scorchers and ice storm Top 10 weathe...</td>\n",
              "      <td>1</td>\n",
              "      <td>Tornado</td>\n",
              "    </tr>\n",
              "    <tr>\n",
              "      <th>2</th>\n",
              "      <td>Yellowstone Supervolcano Magma Chamber Is Very...</td>\n",
              "      <td>-1</td>\n",
              "      <td>Unknown</td>\n",
              "    </tr>\n",
              "    <tr>\n",
              "      <th>3</th>\n",
              "      <td>Japan earthquakes Coastal residents told to ev...</td>\n",
              "      <td>0</td>\n",
              "      <td>Earthquake</td>\n",
              "    </tr>\n",
              "    <tr>\n",
              "      <th>4</th>\n",
              "      <td>Topic Tsunami The Sydney Morning Herald</td>\n",
              "      <td>0</td>\n",
              "      <td>Earthquake</td>\n",
              "    </tr>\n",
              "  </tbody>\n",
              "</table>\n",
              "</div>\n",
              "    <div class=\"colab-df-buttons\">\n",
              "\n",
              "  <div class=\"colab-df-container\">\n",
              "    <button class=\"colab-df-convert\" onclick=\"convertToInteractive('df-5912ffb3-629e-49c1-b463-cdd74e9af772')\"\n",
              "            title=\"Convert this dataframe to an interactive table.\"\n",
              "            style=\"display:none;\">\n",
              "\n",
              "  <svg xmlns=\"http://www.w3.org/2000/svg\" height=\"24px\" viewBox=\"0 -960 960 960\">\n",
              "    <path d=\"M120-120v-720h720v720H120Zm60-500h600v-160H180v160Zm220 220h160v-160H400v160Zm0 220h160v-160H400v160ZM180-400h160v-160H180v160Zm440 0h160v-160H620v160ZM180-180h160v-160H180v160Zm440 0h160v-160H620v160Z\"/>\n",
              "  </svg>\n",
              "    </button>\n",
              "\n",
              "  <style>\n",
              "    .colab-df-container {\n",
              "      display:flex;\n",
              "      gap: 12px;\n",
              "    }\n",
              "\n",
              "    .colab-df-convert {\n",
              "      background-color: #E8F0FE;\n",
              "      border: none;\n",
              "      border-radius: 50%;\n",
              "      cursor: pointer;\n",
              "      display: none;\n",
              "      fill: #1967D2;\n",
              "      height: 32px;\n",
              "      padding: 0 0 0 0;\n",
              "      width: 32px;\n",
              "    }\n",
              "\n",
              "    .colab-df-convert:hover {\n",
              "      background-color: #E2EBFA;\n",
              "      box-shadow: 0px 1px 2px rgba(60, 64, 67, 0.3), 0px 1px 3px 1px rgba(60, 64, 67, 0.15);\n",
              "      fill: #174EA6;\n",
              "    }\n",
              "\n",
              "    .colab-df-buttons div {\n",
              "      margin-bottom: 4px;\n",
              "    }\n",
              "\n",
              "    [theme=dark] .colab-df-convert {\n",
              "      background-color: #3B4455;\n",
              "      fill: #D2E3FC;\n",
              "    }\n",
              "\n",
              "    [theme=dark] .colab-df-convert:hover {\n",
              "      background-color: #434B5C;\n",
              "      box-shadow: 0px 1px 3px 1px rgba(0, 0, 0, 0.15);\n",
              "      filter: drop-shadow(0px 1px 2px rgba(0, 0, 0, 0.3));\n",
              "      fill: #FFFFFF;\n",
              "    }\n",
              "  </style>\n",
              "\n",
              "    <script>\n",
              "      const buttonEl =\n",
              "        document.querySelector('#df-5912ffb3-629e-49c1-b463-cdd74e9af772 button.colab-df-convert');\n",
              "      buttonEl.style.display =\n",
              "        google.colab.kernel.accessAllowed ? 'block' : 'none';\n",
              "\n",
              "      async function convertToInteractive(key) {\n",
              "        const element = document.querySelector('#df-5912ffb3-629e-49c1-b463-cdd74e9af772');\n",
              "        const dataTable =\n",
              "          await google.colab.kernel.invokeFunction('convertToInteractive',\n",
              "                                                    [key], {});\n",
              "        if (!dataTable) return;\n",
              "\n",
              "        const docLinkHtml = 'Like what you see? Visit the ' +\n",
              "          '<a target=\"_blank\" href=https://colab.research.google.com/notebooks/data_table.ipynb>data table notebook</a>'\n",
              "          + ' to learn more about interactive tables.';\n",
              "        element.innerHTML = '';\n",
              "        dataTable['output_type'] = 'display_data';\n",
              "        await google.colab.output.renderOutput(dataTable, element);\n",
              "        const docLink = document.createElement('div');\n",
              "        docLink.innerHTML = docLinkHtml;\n",
              "        element.appendChild(docLink);\n",
              "      }\n",
              "    </script>\n",
              "  </div>\n",
              "\n",
              "\n",
              "    <div id=\"df-d6ece40e-6740-4ba8-854b-730320081cf9\">\n",
              "      <button class=\"colab-df-quickchart\" onclick=\"quickchart('df-d6ece40e-6740-4ba8-854b-730320081cf9')\"\n",
              "                title=\"Suggest charts\"\n",
              "                style=\"display:none;\">\n",
              "\n",
              "<svg xmlns=\"http://www.w3.org/2000/svg\" height=\"24px\"viewBox=\"0 0 24 24\"\n",
              "     width=\"24px\">\n",
              "    <g>\n",
              "        <path d=\"M19 3H5c-1.1 0-2 .9-2 2v14c0 1.1.9 2 2 2h14c1.1 0 2-.9 2-2V5c0-1.1-.9-2-2-2zM9 17H7v-7h2v7zm4 0h-2V7h2v10zm4 0h-2v-4h2v4z\"/>\n",
              "    </g>\n",
              "</svg>\n",
              "      </button>\n",
              "\n",
              "<style>\n",
              "  .colab-df-quickchart {\n",
              "      --bg-color: #E8F0FE;\n",
              "      --fill-color: #1967D2;\n",
              "      --hover-bg-color: #E2EBFA;\n",
              "      --hover-fill-color: #174EA6;\n",
              "      --disabled-fill-color: #AAA;\n",
              "      --disabled-bg-color: #DDD;\n",
              "  }\n",
              "\n",
              "  [theme=dark] .colab-df-quickchart {\n",
              "      --bg-color: #3B4455;\n",
              "      --fill-color: #D2E3FC;\n",
              "      --hover-bg-color: #434B5C;\n",
              "      --hover-fill-color: #FFFFFF;\n",
              "      --disabled-bg-color: #3B4455;\n",
              "      --disabled-fill-color: #666;\n",
              "  }\n",
              "\n",
              "  .colab-df-quickchart {\n",
              "    background-color: var(--bg-color);\n",
              "    border: none;\n",
              "    border-radius: 50%;\n",
              "    cursor: pointer;\n",
              "    display: none;\n",
              "    fill: var(--fill-color);\n",
              "    height: 32px;\n",
              "    padding: 0;\n",
              "    width: 32px;\n",
              "  }\n",
              "\n",
              "  .colab-df-quickchart:hover {\n",
              "    background-color: var(--hover-bg-color);\n",
              "    box-shadow: 0 1px 2px rgba(60, 64, 67, 0.3), 0 1px 3px 1px rgba(60, 64, 67, 0.15);\n",
              "    fill: var(--button-hover-fill-color);\n",
              "  }\n",
              "\n",
              "  .colab-df-quickchart-complete:disabled,\n",
              "  .colab-df-quickchart-complete:disabled:hover {\n",
              "    background-color: var(--disabled-bg-color);\n",
              "    fill: var(--disabled-fill-color);\n",
              "    box-shadow: none;\n",
              "  }\n",
              "\n",
              "  .colab-df-spinner {\n",
              "    border: 2px solid var(--fill-color);\n",
              "    border-color: transparent;\n",
              "    border-bottom-color: var(--fill-color);\n",
              "    animation:\n",
              "      spin 1s steps(1) infinite;\n",
              "  }\n",
              "\n",
              "  @keyframes spin {\n",
              "    0% {\n",
              "      border-color: transparent;\n",
              "      border-bottom-color: var(--fill-color);\n",
              "      border-left-color: var(--fill-color);\n",
              "    }\n",
              "    20% {\n",
              "      border-color: transparent;\n",
              "      border-left-color: var(--fill-color);\n",
              "      border-top-color: var(--fill-color);\n",
              "    }\n",
              "    30% {\n",
              "      border-color: transparent;\n",
              "      border-left-color: var(--fill-color);\n",
              "      border-top-color: var(--fill-color);\n",
              "      border-right-color: var(--fill-color);\n",
              "    }\n",
              "    40% {\n",
              "      border-color: transparent;\n",
              "      border-right-color: var(--fill-color);\n",
              "      border-top-color: var(--fill-color);\n",
              "    }\n",
              "    60% {\n",
              "      border-color: transparent;\n",
              "      border-right-color: var(--fill-color);\n",
              "    }\n",
              "    80% {\n",
              "      border-color: transparent;\n",
              "      border-right-color: var(--fill-color);\n",
              "      border-bottom-color: var(--fill-color);\n",
              "    }\n",
              "    90% {\n",
              "      border-color: transparent;\n",
              "      border-bottom-color: var(--fill-color);\n",
              "    }\n",
              "  }\n",
              "</style>\n",
              "\n",
              "      <script>\n",
              "        async function quickchart(key) {\n",
              "          const quickchartButtonEl =\n",
              "            document.querySelector('#' + key + ' button');\n",
              "          quickchartButtonEl.disabled = true;  // To prevent multiple clicks.\n",
              "          quickchartButtonEl.classList.add('colab-df-spinner');\n",
              "          try {\n",
              "            const charts = await google.colab.kernel.invokeFunction(\n",
              "                'suggestCharts', [key], {});\n",
              "          } catch (error) {\n",
              "            console.error('Error during call to suggestCharts:', error);\n",
              "          }\n",
              "          quickchartButtonEl.classList.remove('colab-df-spinner');\n",
              "          quickchartButtonEl.classList.add('colab-df-quickchart-complete');\n",
              "        }\n",
              "        (() => {\n",
              "          let quickchartButtonEl =\n",
              "            document.querySelector('#df-d6ece40e-6740-4ba8-854b-730320081cf9 button');\n",
              "          quickchartButtonEl.style.display =\n",
              "            google.colab.kernel.accessAllowed ? 'block' : 'none';\n",
              "        })();\n",
              "      </script>\n",
              "    </div>\n",
              "\n",
              "    </div>\n",
              "  </div>\n"
            ],
            "application/vnd.google.colaboratory.intrinsic+json": {
              "type": "dataframe",
              "variable_name": "df_result",
              "summary": "{\n  \"name\": \"df_result\",\n  \"rows\": 21570,\n  \"fields\": [\n    {\n      \"column\": \"title\",\n      \"properties\": {\n        \"dtype\": \"string\",\n        \"num_unique_values\": 21536,\n        \"samples\": [\n          \"Taylor Swift L A Fans Caused Earthquake During SoFi Era Concert\",\n          \"Noto quake ruins half of buildings built on earlier strength rules The Asahi Shimbun Breaking News Japan News and Analysis\",\n          \"Rain helps keep Fort McMurray wildfire from growing but 6 600 remain out of homes Brandon Sun\"\n        ],\n        \"semantic_type\": \"\",\n        \"description\": \"\"\n      }\n    },\n    {\n      \"column\": \"topic_num\",\n      \"properties\": {\n        \"dtype\": \"number\",\n        \"std\": 1,\n        \"min\": -1,\n        \"max\": 3,\n        \"num_unique_values\": 5,\n        \"samples\": [\n          1,\n          3,\n          -1\n        ],\n        \"semantic_type\": \"\",\n        \"description\": \"\"\n      }\n    },\n    {\n      \"column\": \"topic_label\",\n      \"properties\": {\n        \"dtype\": \"category\",\n        \"num_unique_values\": 5,\n        \"samples\": [\n          \"Tornado\",\n          \"Floods\",\n          \"Unknown\"\n        ],\n        \"semantic_type\": \"\",\n        \"description\": \"\"\n      }\n    }\n  ]\n}"
            }
          },
          "metadata": {},
          "execution_count": 62
        }
      ]
    },
    {
      "cell_type": "code",
      "source": [
        "df_result.topic_label.value_counts()"
      ],
      "metadata": {
        "colab": {
          "base_uri": "https://localhost:8080/",
          "height": 272
        },
        "id": "QSNtb7nTZ1XS",
        "outputId": "fa95f591-2b7d-426b-eae6-b4af3bdca9d2"
      },
      "execution_count": 63,
      "outputs": [
        {
          "output_type": "execute_result",
          "data": {
            "text/plain": [
              "topic_label\n",
              "Unknown       6948\n",
              "Earthquake    6250\n",
              "Tornado       6034\n",
              "Volcano       2322\n",
              "Floods          16\n",
              "Name: count, dtype: int64"
            ],
            "text/html": [
              "<div>\n",
              "<style scoped>\n",
              "    .dataframe tbody tr th:only-of-type {\n",
              "        vertical-align: middle;\n",
              "    }\n",
              "\n",
              "    .dataframe tbody tr th {\n",
              "        vertical-align: top;\n",
              "    }\n",
              "\n",
              "    .dataframe thead th {\n",
              "        text-align: right;\n",
              "    }\n",
              "</style>\n",
              "<table border=\"1\" class=\"dataframe\">\n",
              "  <thead>\n",
              "    <tr style=\"text-align: right;\">\n",
              "      <th></th>\n",
              "      <th>count</th>\n",
              "    </tr>\n",
              "    <tr>\n",
              "      <th>topic_label</th>\n",
              "      <th></th>\n",
              "    </tr>\n",
              "  </thead>\n",
              "  <tbody>\n",
              "    <tr>\n",
              "      <th>Unknown</th>\n",
              "      <td>6948</td>\n",
              "    </tr>\n",
              "    <tr>\n",
              "      <th>Earthquake</th>\n",
              "      <td>6250</td>\n",
              "    </tr>\n",
              "    <tr>\n",
              "      <th>Tornado</th>\n",
              "      <td>6034</td>\n",
              "    </tr>\n",
              "    <tr>\n",
              "      <th>Volcano</th>\n",
              "      <td>2322</td>\n",
              "    </tr>\n",
              "    <tr>\n",
              "      <th>Floods</th>\n",
              "      <td>16</td>\n",
              "    </tr>\n",
              "  </tbody>\n",
              "</table>\n",
              "</div><br><label><b>dtype:</b> int64</label>"
            ]
          },
          "metadata": {},
          "execution_count": 63
        }
      ]
    },
    {
      "cell_type": "code",
      "source": [
        "def classify_new_title(title, topic_model, manual_topic_map):\n",
        "    topic, prob = topic_model.transform([title])\n",
        "    topic_num = topic[0]\n",
        "    label = manual_topic_map.get(topic_num, \"Unknown\")\n",
        "\n",
        "    return {\n",
        "        \"title\": title,\n",
        "        \"topic_num\": topic_num,\n",
        "        \"probability\": prob[0],\n",
        "        \"topic_label\": label\n",
        "    }"
      ],
      "metadata": {
        "id": "KGFln4JmZ9N_"
      },
      "execution_count": 66,
      "outputs": []
    },
    {
      "cell_type": "code",
      "source": [
        "new_title = \"4.5 magnitude earthquake strikes southern Turkey\"\n",
        "\n",
        "# Reuse the already fitted topic_model\n",
        "result = classify_new_title(new_title, topic_model, manual_topic_map)\n",
        "\n",
        "print(f\"Title: {result['title']}\")\n",
        "print(f\"Topic #: {result['topic_num']}\")\n",
        "print(f\"Label: {result['topic_label']}\")\n",
        "print(f\"Confidence: {result['probability']:.4f}\")"
      ],
      "metadata": {
        "colab": {
          "base_uri": "https://localhost:8080/",
          "height": 356
        },
        "id": "AXOH7emRaUvI",
        "outputId": "b6b41ef4-8a74-4d66-a001-091e3372eed3"
      },
      "execution_count": 73,
      "outputs": [
        {
          "output_type": "error",
          "ename": "ValueError",
          "evalue": "This BERTopic instance is not fitted yet. Call 'fit' with appropriate arguments before using this estimator.",
          "traceback": [
            "\u001b[0;31m---------------------------------------------------------------------------\u001b[0m",
            "\u001b[0;31mValueError\u001b[0m                                Traceback (most recent call last)",
            "\u001b[0;32m/tmp/ipython-input-73-101252917.py\u001b[0m in \u001b[0;36m<cell line: 0>\u001b[0;34m()\u001b[0m\n\u001b[1;32m      2\u001b[0m \u001b[0;34m\u001b[0m\u001b[0m\n\u001b[1;32m      3\u001b[0m \u001b[0;31m# Reuse the already fitted topic_model\u001b[0m\u001b[0;34m\u001b[0m\u001b[0;34m\u001b[0m\u001b[0m\n\u001b[0;32m----> 4\u001b[0;31m \u001b[0mresult\u001b[0m \u001b[0;34m=\u001b[0m \u001b[0mclassify_new_title\u001b[0m\u001b[0;34m(\u001b[0m\u001b[0mnew_title\u001b[0m\u001b[0;34m,\u001b[0m \u001b[0mtopic_model\u001b[0m\u001b[0;34m,\u001b[0m \u001b[0mmanual_topic_map\u001b[0m\u001b[0;34m)\u001b[0m\u001b[0;34m\u001b[0m\u001b[0;34m\u001b[0m\u001b[0m\n\u001b[0m\u001b[1;32m      5\u001b[0m \u001b[0;34m\u001b[0m\u001b[0m\n\u001b[1;32m      6\u001b[0m \u001b[0mprint\u001b[0m\u001b[0;34m(\u001b[0m\u001b[0;34mf\"Title: {result['title']}\"\u001b[0m\u001b[0;34m)\u001b[0m\u001b[0;34m\u001b[0m\u001b[0;34m\u001b[0m\u001b[0m\n",
            "\u001b[0;32m/tmp/ipython-input-66-854840229.py\u001b[0m in \u001b[0;36mclassify_new_title\u001b[0;34m(title, topic_model, manual_topic_map)\u001b[0m\n\u001b[1;32m      1\u001b[0m \u001b[0;32mdef\u001b[0m \u001b[0mclassify_new_title\u001b[0m\u001b[0;34m(\u001b[0m\u001b[0mtitle\u001b[0m\u001b[0;34m,\u001b[0m \u001b[0mtopic_model\u001b[0m\u001b[0;34m,\u001b[0m \u001b[0mmanual_topic_map\u001b[0m\u001b[0;34m)\u001b[0m\u001b[0;34m:\u001b[0m\u001b[0;34m\u001b[0m\u001b[0;34m\u001b[0m\u001b[0m\n\u001b[0;32m----> 2\u001b[0;31m     \u001b[0mtopic\u001b[0m\u001b[0;34m,\u001b[0m \u001b[0mprob\u001b[0m \u001b[0;34m=\u001b[0m \u001b[0mtopic_model\u001b[0m\u001b[0;34m.\u001b[0m\u001b[0mtransform\u001b[0m\u001b[0;34m(\u001b[0m\u001b[0;34m[\u001b[0m\u001b[0mtitle\u001b[0m\u001b[0;34m]\u001b[0m\u001b[0;34m)\u001b[0m\u001b[0;34m\u001b[0m\u001b[0;34m\u001b[0m\u001b[0m\n\u001b[0m\u001b[1;32m      3\u001b[0m     \u001b[0mtopic_num\u001b[0m \u001b[0;34m=\u001b[0m \u001b[0mtopic\u001b[0m\u001b[0;34m[\u001b[0m\u001b[0;36m0\u001b[0m\u001b[0;34m]\u001b[0m\u001b[0;34m\u001b[0m\u001b[0;34m\u001b[0m\u001b[0m\n\u001b[1;32m      4\u001b[0m     \u001b[0mlabel\u001b[0m \u001b[0;34m=\u001b[0m \u001b[0mmanual_topic_map\u001b[0m\u001b[0;34m.\u001b[0m\u001b[0mget\u001b[0m\u001b[0;34m(\u001b[0m\u001b[0mtopic_num\u001b[0m\u001b[0;34m,\u001b[0m \u001b[0;34m\"Unknown\"\u001b[0m\u001b[0;34m)\u001b[0m\u001b[0;34m\u001b[0m\u001b[0;34m\u001b[0m\u001b[0m\n\u001b[1;32m      5\u001b[0m \u001b[0;34m\u001b[0m\u001b[0m\n",
            "\u001b[0;32m/usr/local/lib/python3.11/dist-packages/bertopic/_bertopic.py\u001b[0m in \u001b[0;36mtransform\u001b[0;34m(self, documents, embeddings, images)\u001b[0m\n\u001b[1;32m    586\u001b[0m         \u001b[0;31m`\u001b[0m\u001b[0;31m`\u001b[0m\u001b[0;31m`\u001b[0m\u001b[0;34m\u001b[0m\u001b[0;34m\u001b[0m\u001b[0m\n\u001b[1;32m    587\u001b[0m         \"\"\"\n\u001b[0;32m--> 588\u001b[0;31m         \u001b[0mcheck_is_fitted\u001b[0m\u001b[0;34m(\u001b[0m\u001b[0mself\u001b[0m\u001b[0;34m)\u001b[0m\u001b[0;34m\u001b[0m\u001b[0;34m\u001b[0m\u001b[0m\n\u001b[0m\u001b[1;32m    589\u001b[0m         \u001b[0mcheck_embeddings_shape\u001b[0m\u001b[0;34m(\u001b[0m\u001b[0membeddings\u001b[0m\u001b[0;34m,\u001b[0m \u001b[0mdocuments\u001b[0m\u001b[0;34m)\u001b[0m\u001b[0;34m\u001b[0m\u001b[0;34m\u001b[0m\u001b[0m\n\u001b[1;32m    590\u001b[0m \u001b[0;34m\u001b[0m\u001b[0m\n",
            "\u001b[0;32m/usr/local/lib/python3.11/dist-packages/bertopic/_utils.py\u001b[0m in \u001b[0;36mcheck_is_fitted\u001b[0;34m(topic_model)\u001b[0m\n\u001b[1;32m     78\u001b[0m \u001b[0;34m\u001b[0m\u001b[0m\n\u001b[1;32m     79\u001b[0m     \u001b[0;32mif\u001b[0m \u001b[0mtopic_model\u001b[0m\u001b[0;34m.\u001b[0m\u001b[0mtopics_\u001b[0m \u001b[0;32mis\u001b[0m \u001b[0;32mNone\u001b[0m\u001b[0;34m:\u001b[0m\u001b[0;34m\u001b[0m\u001b[0;34m\u001b[0m\u001b[0m\n\u001b[0;32m---> 80\u001b[0;31m         \u001b[0;32mraise\u001b[0m \u001b[0mValueError\u001b[0m\u001b[0;34m(\u001b[0m\u001b[0mmsg\u001b[0m \u001b[0;34m%\u001b[0m \u001b[0;34m{\u001b[0m\u001b[0;34m\"name\"\u001b[0m\u001b[0;34m:\u001b[0m \u001b[0mtype\u001b[0m\u001b[0;34m(\u001b[0m\u001b[0mtopic_model\u001b[0m\u001b[0;34m)\u001b[0m\u001b[0;34m.\u001b[0m\u001b[0m__name__\u001b[0m\u001b[0;34m}\u001b[0m\u001b[0;34m)\u001b[0m\u001b[0;34m\u001b[0m\u001b[0;34m\u001b[0m\u001b[0m\n\u001b[0m\u001b[1;32m     81\u001b[0m \u001b[0;34m\u001b[0m\u001b[0m\n\u001b[1;32m     82\u001b[0m \u001b[0;34m\u001b[0m\u001b[0m\n",
            "\u001b[0;31mValueError\u001b[0m: This BERTopic instance is not fitted yet. Call 'fit' with appropriate arguments before using this estimator."
          ]
        }
      ]
    },
    {
      "cell_type": "code",
      "source": [],
      "metadata": {
        "id": "iUXdBs52bWMM"
      },
      "execution_count": null,
      "outputs": []
    }
  ]
}